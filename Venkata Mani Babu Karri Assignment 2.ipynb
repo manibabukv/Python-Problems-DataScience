{
 "cells": [
  {
   "cell_type": "code",
   "execution_count": 1,
   "id": "6e9b1d88",
   "metadata": {},
   "outputs": [
    {
     "name": "stdout",
     "output_type": "stream",
     "text": [
      "Enter the user name: manibabu67\n",
      "<class 'str'>\n",
      "Length: 10\n"
     ]
    }
   ],
   "source": [
    "#question1-User name type and length\n",
    "name = input(\"Enter the user name: \")\n",
    "print(type(name))\n",
    "print('Length:',len(name))"
   ]
  },
  {
   "cell_type": "code",
   "execution_count": 2,
   "id": "8c37475e",
   "metadata": {},
   "outputs": [
    {
     "name": "stdout",
     "output_type": "stream",
     "text": [
      "Last 11 letters: Informatics\n"
     ]
    }
   ],
   "source": [
    "#question2-last 11 letters of \"Introduction to Informatics\"\n",
    "course = \"Introduction to Informatics\"\n",
    "course_len = len(course)\n",
    "print('Last 11 letters:',course[course_len-11:course_len])"
   ]
  },
  {
   "cell_type": "code",
   "execution_count": 3,
   "id": "b0ffb831",
   "metadata": {},
   "outputs": [
    {
     "name": "stdout",
     "output_type": "stream",
     "text": [
      "3rd to 11th letters: troductio\n"
     ]
    }
   ],
   "source": [
    "#question3-3rd to 11th letters of \"Introduction to Informatics\"\n",
    "course = \"Introduction to Informatics\"\n",
    "course_len = len(course)\n",
    "print('3rd to 11th letters:',course[2:11])"
   ]
  },
  {
   "cell_type": "code",
   "execution_count": 4,
   "id": "2052d13a",
   "metadata": {},
   "outputs": [
    {
     "name": "stdout",
     "output_type": "stream",
     "text": [
      "Enter integer 1: 10\n",
      "Enter integer 2: 55\n",
      "Enter integer 3: 67\n",
      "Enter integer 4: 88\n",
      "Enter integer 5: 91\n",
      "Enter integer 6: 34\n",
      "Enter integer 7: 98\n",
      "Enter integer 8: 33\n",
      "Enter integer 9: 23\n",
      "Enter integer 10: 30\n",
      "Last odd number: 23\n"
     ]
    }
   ],
   "source": [
    "#question4-last odd number among 10 input numbers\n",
    "int1 = int(input(\"Enter integer 1: \"))\n",
    "int2 = int(input(\"Enter integer 2: \"))\n",
    "int3 = int(input(\"Enter integer 3: \"))\n",
    "int4 = int(input(\"Enter integer 4: \"))\n",
    "int5 = int(input(\"Enter integer 5: \"))\n",
    "int6 = int(input(\"Enter integer 6: \"))\n",
    "int7 = int(input(\"Enter integer 7: \"))\n",
    "int8 = int(input(\"Enter integer 8: \"))\n",
    "int9 = int(input(\"Enter integer 9: \"))\n",
    "int10 = int(input(\"Enter integer 10: \"))\n",
    "if int10%2 != 0:\n",
    "    print('Last odd number:',int10)\n",
    "elif int9%2 != 0:\n",
    "    print('Last odd number:',int9)\n",
    "elif int8%2 != 0:\n",
    "    print('Last odd number:',int8)\n",
    "elif int7%2 != 0:\n",
    "    print('Last odd number:',int7)\n",
    "elif int6%2 != 0:\n",
    "    print('Last odd number:',int6)\n",
    "elif int5%2 != 0:\n",
    "    print('Last odd number:',int5)\n",
    "elif int4%2 != 0:\n",
    "    print('Last odd number:',int4)\n",
    "elif int3%2 != 0:\n",
    "    print('Last odd number:',int3)\n",
    "elif int2%2 != 0:\n",
    "    print('Last odd number:',int2)\n",
    "elif int1%2 != 0:\n",
    "    print('Last odd number:',int1)\n",
    "else:\n",
    "    print(\"No odd number\")"
   ]
  },
  {
   "cell_type": "code",
   "execution_count": 5,
   "id": "80547ab4",
   "metadata": {},
   "outputs": [
    {
     "name": "stdout",
     "output_type": "stream",
     "text": [
      "Enter an integer: 5\n",
      "A: 1 B: 0\n",
      "A: 2 B: 1\n",
      "A: 3 B: 2\n",
      "A: 4 B: 1\n",
      "A: 5 B: 0\n"
     ]
    }
   ],
   "source": [
    "#question5-integers A,B such that X%A=B\n",
    "X = int(input(\"Enter an integer: \"))\n",
    "K = 0\n",
    "while K < X:\n",
    "    K = K+1\n",
    "    A = K\n",
    "    B = X%A\n",
    "    print('A:',A,'B:',B)"
   ]
  },
  {
   "cell_type": "code",
   "execution_count": 6,
   "id": "d87caf49",
   "metadata": {},
   "outputs": [
    {
     "name": "stdout",
     "output_type": "stream",
     "text": [
      "Enter 5 Digit Numbers: 43672\n",
      "Sum of Digits: 22\n"
     ]
    }
   ],
   "source": [
    "#question6-sum of digits in a 5 digit number\n",
    "user_input = input(\"Enter 5 Digit Numbers: \")\n",
    "input_len = len(user_input)\n",
    "sum_of_digits = 0\n",
    "for i in range(input_len):\n",
    "    sum_of_digits = sum_of_digits + int(user_input[i])\n",
    "print('Sum of Digits:',sum_of_digits)"
   ]
  },
  {
   "cell_type": "code",
   "execution_count": 7,
   "id": "2bb34e22",
   "metadata": {},
   "outputs": [
    {
     "name": "stdout",
     "output_type": "stream",
     "text": [
      "0\n",
      "2\n",
      "4\n",
      "6\n",
      "8\n",
      "10\n"
     ]
    }
   ],
   "source": [
    "#question7-positive even numbers less than 11\n",
    "for i in range(12):\n",
    "    if i%2 == 0:\n",
    "        print(i)"
   ]
  },
  {
   "cell_type": "code",
   "execution_count": 8,
   "id": "8c7cba64",
   "metadata": {},
   "outputs": [
    {
     "name": "stdout",
     "output_type": "stream",
     "text": [
      "Enter the string: SoICIUPUI\n",
      "Reversed String: IUPUICIoS\n"
     ]
    }
   ],
   "source": [
    "#question8-reversing string using for loop\n",
    "string = input(\"Enter the string: \")\n",
    "string_len = len(string)\n",
    "new_string = \"\"\n",
    "for i in range(1,(string_len)+1):\n",
    "    new_string = new_string + string[-i]\n",
    "print('Reversed String:',new_string)"
   ]
  },
  {
   "cell_type": "code",
   "execution_count": 9,
   "id": "d0082e95",
   "metadata": {},
   "outputs": [
    {
     "name": "stdout",
     "output_type": "stream",
     "text": [
      "InformaticsInformaticsInformatics\n"
     ]
    }
   ],
   "source": [
    "#question9-using '*' for 3 times \"Informatics\"\n",
    "string = \"Informatics\"\n",
    "output = string*3\n",
    "print(output)"
   ]
  },
  {
   "cell_type": "code",
   "execution_count": 10,
   "id": "28622660",
   "metadata": {},
   "outputs": [
    {
     "name": "stdout",
     "output_type": "stream",
     "text": [
      "0\n",
      "5\n",
      "10\n",
      "15\n",
      "20\n",
      "25\n",
      "30\n",
      "35\n",
      "40\n",
      "45\n",
      "50\n",
      "55\n",
      "60\n",
      "65\n",
      "70\n",
      "75\n",
      "80\n",
      "85\n",
      "90\n",
      "95\n",
      "100\n"
     ]
    }
   ],
   "source": [
    "#question10-numbers from 0 to 100 divisble by 5\n",
    "for i in range(101):\n",
    "    if i%5 == 0:\n",
    "        print(i)"
   ]
  },
  {
   "cell_type": "code",
   "execution_count": 11,
   "id": "d43aa3ac",
   "metadata": {},
   "outputs": [
    {
     "name": "stdout",
     "output_type": "stream",
     "text": [
      "Enter negative integer: -67\n",
      "67\n"
     ]
    }
   ],
   "source": [
    "#question11-absolute value of a negative number\n",
    "def func_abs(neg_int):\n",
    "    print(abs(neg_int))\n",
    "    \n",
    "neg_int = int(input(\"Enter negative integer: \"))\n",
    "func_abs(neg_int)"
   ]
  },
  {
   "cell_type": "code",
   "execution_count": 12,
   "id": "92ea6a48",
   "metadata": {},
   "outputs": [
    {
     "name": "stdout",
     "output_type": "stream",
     "text": [
      "Answer: 99\n"
     ]
    }
   ],
   "source": [
    "#question12-number divisible by 3 and close to 100\n",
    "i=0\n",
    "while i <= 100:\n",
    "    i = i+1\n",
    "    if i%3 == 0:\n",
    "        ans = i\n",
    "print('Answer:',ans)"
   ]
  },
  {
   "cell_type": "code",
   "execution_count": 13,
   "id": "685c5fee",
   "metadata": {},
   "outputs": [
    {
     "name": "stdout",
     "output_type": "stream",
     "text": [
      "Enter the float: 5.237\n",
      "5\n"
     ]
    }
   ],
   "source": [
    "#question13-rounded value of float\n",
    "def round_func(enter_float):\n",
    "    print(round(enter_float))\n",
    "\n",
    "input_float = float(input(\"Enter the float: \"))\n",
    "round_func(input_float)"
   ]
  },
  {
   "cell_type": "code",
   "execution_count": 14,
   "id": "1fc24b91",
   "metadata": {},
   "outputs": [
    {
     "name": "stdout",
     "output_type": "stream",
     "text": [
      "Enter the number: 25\n",
      "Caluculated Square Root: 5.000012953048684\n",
      "Difference: 0.00012953065462539826\n"
     ]
    }
   ],
   "source": [
    "#question14-squareroot of parameter using Newton-Raphson Method:\n",
    "def Newton_Raphson_Square_Root(k, epsilon):\n",
    "    guess = k/2.0\n",
    "    number_guesses = 1\n",
    "    while abs(guess*guess - k) >= epsilon:\n",
    "        guess = guess - (((guess**2) - k)/(2*guess))\n",
    "        number_guesses += 1\n",
    "    return guess\n",
    "k = float(input(\"Enter the number: \"))\n",
    "epsilon = 0.01\n",
    "sq_root = Newton_Raphson_Square_Root(k, epsilon)\n",
    "print('Caluculated Square Root:',sq_root)\n",
    "print('Difference:',(sq_root)**2-(k))"
   ]
  }
 ],
 "metadata": {
  "kernelspec": {
   "display_name": "Python 3 (ipykernel)",
   "language": "python",
   "name": "python3"
  },
  "language_info": {
   "codemirror_mode": {
    "name": "ipython",
    "version": 3
   },
   "file_extension": ".py",
   "mimetype": "text/x-python",
   "name": "python",
   "nbconvert_exporter": "python",
   "pygments_lexer": "ipython3",
   "version": "3.9.7"
  }
 },
 "nbformat": 4,
 "nbformat_minor": 5
}
