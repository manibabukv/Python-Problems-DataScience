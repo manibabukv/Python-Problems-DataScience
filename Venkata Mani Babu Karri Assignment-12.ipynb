{
 "cells": [
  {
   "cell_type": "code",
   "execution_count": 1,
   "id": "c27ee5bf",
   "metadata": {},
   "outputs": [
    {
     "name": "stdout",
     "output_type": "stream",
     "text": [
      "45.09574752894333\n"
     ]
    }
   ],
   "source": [
    "#question-1a\n",
    "import pandas as pd\n",
    "import numpy as np\n",
    "import matplotlib.pyplot as plt\n",
    "import random\n",
    "import sklearn.linear_model as sklm\n",
    "import sklearn.metrics as skm\n",
    "from sklearn import linear_model\n",
    "\n",
    "df=pd.read_csv(\"brain_size.csv\",sep=';',na_values=['.'])\n",
    "df=df.dropna(axis=0)\n",
    "df=df.drop('Unnamed: 0',axis=1)\n",
    "df\n",
    "\n",
    "line_reg=linear_model.LinearRegression()\n",
    "df['Gender'] = df['Gender'].apply(lambda t: 0 if t == 'Male' else 1) \n",
    "#'1' represents 'Female' and '0' represents to 'Male'\n",
    "line_reg.fit(df[['Gender','FSIQ','VIQ','PIQ','Weight','MRI_Count']],df.Height)\n",
    "df\n",
    "pred_height=(line_reg.predict([[1,198,260,210,102.2,1222346]])[0])\n",
    "print(pred_height)"
   ]
  },
  {
   "cell_type": "code",
   "execution_count": 2,
   "id": "6b161202",
   "metadata": {},
   "outputs": [
    {
     "name": "stdout",
     "output_type": "stream",
     "text": [
      "1\n"
     ]
    }
   ],
   "source": [
    "#question-1b\n",
    "log_reg = linear_model.LogisticRegression()\n",
    "log_reg.fit(df[['FSIQ','VIQ','PIQ','Weight','Height','MRI_Count']],df.Gender)\n",
    "df\n",
    "pred_gender=(log_reg.predict([[198,260,210,102.2,pred_height,1222346]])[0])\n",
    "print(pred_gender)"
   ]
  },
  {
   "cell_type": "code",
   "execution_count": 3,
   "id": "375fafa5",
   "metadata": {},
   "outputs": [
    {
     "name": "stdout",
     "output_type": "stream",
     "text": [
      "Z Score: 3.254318755060897\n",
      "P Value: 0.1964869273178429\n",
      "Failed to reject Null Hypothesis\n"
     ]
    }
   ],
   "source": [
    "#question=2a\n",
    "import scipy.stats as stats\n",
    "z_score, p_value = stats.normaltest(df['Weight'].tolist())\n",
    "print(\"Z Score:\",z_score)\n",
    "print(\"P Value:\",p_value)\n",
    "if(p_value < 0.05):\n",
    "    print(\"Reject Null Hypothesis\")\n",
    "else:\n",
    "    print(\"Failed to reject Null Hypothesis\")"
   ]
  },
  {
   "cell_type": "code",
   "execution_count": 6,
   "id": "e0a34ecb",
   "metadata": {},
   "outputs": [
    {
     "name": "stdout",
     "output_type": "stream",
     "text": [
      "Male Verbal IQ Values: [123.0, 129.0, 93.0, 114.0, 150.0, 129.0, 96.0, 77.0, 107.0, 145.0, 145.0, 96.0, 145.0, 96.0, 96.0, 150.0, 90.0, 91.0]\n",
      "Female Verbal IQ Values: [132.0, 132.0, 90.0, 136.0, 90.0, 129.0, 120.0, 100.0, 71.0, 132.0, 112.0, 129.0, 86.0, 90.0, 83.0, 126.0, 126.0, 90.0, 129.0, 86.0]\n",
      "T-Statistic: 0.7551589849287512\n",
      "P-Value: 0.4550660394858371\n",
      "Fail to reject null hypothesis since the Verbal IQ of males and females is not very different.\n"
     ]
    }
   ],
   "source": [
    "#question-2b\n",
    "Male=[]\n",
    "Female=[]\n",
    "for i, s in df.iterrows():\n",
    "    if s['Gender'] == 1:\n",
    "        Female.append(s['VIQ'])\n",
    "    else:\n",
    "        Male.append(s['VIQ'])\n",
    "print('Male Verbal IQ Values:', Male)\n",
    "print('Female Verbal IQ Values:', Female)\n",
    "t_stat, p_value = stats.ttest_ind(Male,Female)\n",
    "print(\"T-Statistic:\", t_stat)\n",
    "print(\"P-Value:\",p_value)\n",
    "if p_value < 0.05:\n",
    "    print(\"Null Hypothesis Rejected since the Verbal IQ of males and females is not very different.\")\n",
    "else:\n",
    "    print(\"Fail to reject null hypothesis since the Verbal IQ of males and females is not very different.\")"
   ]
  }
 ],
 "metadata": {
  "kernelspec": {
   "display_name": "Python 3 (ipykernel)",
   "language": "python",
   "name": "python3"
  },
  "language_info": {
   "codemirror_mode": {
    "name": "ipython",
    "version": 3
   },
   "file_extension": ".py",
   "mimetype": "text/x-python",
   "name": "python",
   "nbconvert_exporter": "python",
   "pygments_lexer": "ipython3",
   "version": "3.9.7"
  }
 },
 "nbformat": 4,
 "nbformat_minor": 5
}
