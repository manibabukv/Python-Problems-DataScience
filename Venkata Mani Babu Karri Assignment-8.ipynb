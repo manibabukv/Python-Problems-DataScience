{
 "cells": [
  {
   "cell_type": "code",
   "execution_count": 1,
   "id": "a16e1de9",
   "metadata": {},
   "outputs": [
    {
     "name": "stdout",
     "output_type": "stream",
     "text": [
      "Mean: 62.666666666666664\n",
      "Median: 72.0\n",
      "Variance: 1198.2222222222222\n",
      "Standard deviation: 34.61534662865912\n"
     ]
    }
   ],
   "source": [
    "#question1\n",
    "import math\n",
    "\n",
    "def sample_mean(sample):\n",
    "    return sum(sample) / len(sample)\n",
    "\n",
    "def sample_median(sample):\n",
    "    n = len(sample)\n",
    "    index = n//2\n",
    "    if n%2:\n",
    "        return sorted(sample)[index]\n",
    "    return sum(sorted(sample)[index - 1:index + 1]) / 2\n",
    "\n",
    "def variance(data):\n",
    "    n = len(data)\n",
    "    mean = sum(data) / n\n",
    "    deviations = [(x - mean) ** 2 for x in data]\n",
    "    variance = sum(deviations) / n\n",
    "    return variance\n",
    "\n",
    "def stdev(data):\n",
    "    var = variance(data)\n",
    "    std_dev = math.sqrt(var)\n",
    "    return std_dev\n",
    "\n",
    "sample_data = [12,12,12,12,12,60,60,60,72,72,72,72,100,100,100,100,100,100]\n",
    "\n",
    "print('Mean:',sample_mean(sample_data))\n",
    "print('Median:',sample_median(sample_data))\n",
    "print('Variance:',variance(sample_data))\n",
    "print('Standard deviation:',stdev(sample_data))"
   ]
  },
  {
   "cell_type": "code",
   "execution_count": 2,
   "id": "3cd31dd9",
   "metadata": {},
   "outputs": [
    {
     "data": {
      "image/png": "[encoded data removed]",
      "text/plain": [
       "<Figure size 432x288 with 1 Axes>"
      ]
     },
     "metadata": {
      "needs_background": "light"
     },
     "output_type": "display_data"
    }
   ],
   "source": [
    "#question2\n",
    "import pandas as pd\n",
    "from matplotlib import pyplot as plt\n",
    "\n",
    "weights=[88,88,88,88,76,76,76,65,65,65,65,65,96,96,52,52,52,52,52,98,98,102,102,102,102]\n",
    "bins=[50,60,70,80,90,100,110]\n",
    "plt.hist(weights,bins=bins,edgecolor='white')\n",
    "plt.title('Students Weight')\n",
    "plt.xlabel('Weight(lbs)')\n",
    "plt.ylabel('Number of Students')\n",
    "plt.tight_layout()\n",
    "plt.show()"
   ]
  },
  {
   "cell_type": "code",
   "execution_count": 3,
   "id": "1eed540d",
   "metadata": {},
   "outputs": [
    {
     "name": "stdout",
     "output_type": "stream",
     "text": [
      "Weight and Probability\n",
      "86 - 0.16\n",
      "76 - 0.12\n",
      "65 - 0.2\n",
      "96 - 0.08\n",
      "52 - 0.2\n",
      "98 - 0.08\n",
      "102 - 0.16\n"
     ]
    }
   ],
   "source": [
    "#question3\n",
    "weight_freq_dict={86:4,76:3,65:5,96:2,52:5,98:2,102:4}\n",
    "\n",
    "values = weight_freq_dict.values()\n",
    "total = sum(values)\n",
    "print('Weight and Probability')\n",
    "for i in weight_freq_dict:\n",
    "    print(i,'-', weight_freq_dict.get(i)/total)"
   ]
  },
  {
   "cell_type": "code",
   "execution_count": 4,
   "id": "b8b8c5d4",
   "metadata": {},
   "outputs": [
    {
     "data": {
      "image/png": "[encoded data removed]",
      "text/plain": [
       "<Figure size 432x288 with 1 Axes>"
      ]
     },
     "metadata": {
      "needs_background": "light"
     },
     "output_type": "display_data"
    }
   ],
   "source": [
    "#question4\n",
    "import random\n",
    "import matplotlib.pyplot as plt\n",
    "\n",
    "def dice_roll():\n",
    "    outcome = []\n",
    "    for i in range(100):\n",
    "        outcome.append(random.randint(1,6))\n",
    "    return outcome\n",
    "\n",
    "outcomes=dice_roll()\n",
    "bins=[1,2,3,4,5,6]\n",
    "plt.hist(outcomes,bins=bins,edgecolor='white')\n",
    "plt.title('Dice Roll Output')\n",
    "plt.xlabel('Outcomes')\n",
    "plt.ylabel('Frequency')\n",
    "plt.show()"
   ]
  }
 ],
 "metadata": {
  "kernelspec": {
   "display_name": "Python 3 (ipykernel)",
   "language": "python",
   "name": "python3"
  },
  "language_info": {
   "codemirror_mode": {
    "name": "ipython",
    "version": 3
   },
   "file_extension": ".py",
   "mimetype": "text/x-python",
   "name": "python",
   "nbconvert_exporter": "python",
   "pygments_lexer": "ipython3",
   "version": "3.9.7"
  }
 },
 "nbformat": 4,
 "nbformat_minor": 5
}
