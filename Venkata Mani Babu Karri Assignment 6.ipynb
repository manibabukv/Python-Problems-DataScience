{
 "cells": [
  {
   "cell_type": "code",
   "execution_count": 2,
   "id": "2b68383d",
   "metadata": {},
   "outputs": [
    {
     "name": "stdout",
     "output_type": "stream",
     "text": [
      "Sorted List: [3, 5, 8, 9, 11, 15, 30, 66]\n"
     ]
    }
   ],
   "source": [
    "#Question-1\n",
    "def bubble_sort(given_order):\n",
    "    count=0\n",
    "    swapped = True\n",
    "    while swapped:\n",
    "        swapped=False\n",
    "        n=len(given_order)\n",
    "        for i in range(0,n):\n",
    "            for j in range(0, n- i - 1):\n",
    "                if given_order[j] > given_order[j + 1]:\n",
    "                    given_order[j],given_order[j+1]=given_order[j+1],given_order[j]\n",
    "                    swapped=True\n",
    "                    count+=1\n",
    "\n",
    "                    \n",
    "enter_list = [5,3,9,11,8,15,30,66]\n",
    "\n",
    "bubble_sort(enter_list)\n",
    "print(\"Sorted List:\", enter_list)"
   ]
  },
  {
   "cell_type": "code",
   "execution_count": null,
   "id": "95d54e3b",
   "metadata": {},
   "outputs": [],
   "source": [
    "#Question-2\n",
    "# There are three different cases which are mentioned below.\n",
    "\n",
    "# Best Case: This is the case when the given list is already sorted,\n",
    "# and the algorithm needs very few iterations to compare. The complexity is represented as Big Omega Ω(n)\n",
    "\n",
    "# Average Case: This is the case when the given list is random. \n",
    "# The average complexity is represented as Big - theeta Θ(n2).\n",
    "\n",
    "# Worst Case: This is the when the given list is in descending order,\n",
    "# and the algorithm has to do a maximum number of swaps in this case. The complexity is represented as Big-O O(n2)"
   ]
  }
 ],
 "metadata": {
  "kernelspec": {
   "display_name": "Python 3 (ipykernel)",
   "language": "python",
   "name": "python3"
  },
  "language_info": {
   "codemirror_mode": {
    "name": "ipython",
    "version": 3
   },
   "file_extension": ".py",
   "mimetype": "text/x-python",
   "name": "python",
   "nbconvert_exporter": "python",
   "pygments_lexer": "ipython3",
   "version": "3.9.7"
  }
 },
 "nbformat": 4,
 "nbformat_minor": 5
}
