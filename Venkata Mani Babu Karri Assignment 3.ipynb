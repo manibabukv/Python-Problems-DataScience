{
 "cells": [
  {
   "cell_type": "code",
   "execution_count": 1,
   "id": "55be323a",
   "metadata": {},
   "outputs": [
    {
     "name": "stdout",
     "output_type": "stream",
     "text": [
      "Answer: 360\n",
      "L2: [3, 4, 5, 6]\n"
     ]
    }
   ],
   "source": [
    "#question1-python function of multiplying all integers in a list\n",
    "def list_int_multi(L1):\n",
    "    k = 1\n",
    "    for i in L1:\n",
    "        if type(i) == int:\n",
    "            k = k*i\n",
    "    return(k)\n",
    "\n",
    "L1 = [3,4,5,6,5.5,10.1234]\n",
    "ans = list_int_multi(L1)\n",
    "print('Answer:', ans)\n",
    "\n",
    "L2 = []\n",
    "for m in L1:\n",
    "    if type(m) == int:\n",
    "        L2.append(m)\n",
    "print('L2:',L2)"
   ]
  },
  {
   "cell_type": "code",
   "execution_count": 2,
   "id": "56b88216",
   "metadata": {},
   "outputs": [
    {
     "name": "stdout",
     "output_type": "stream",
     "text": [
      "informatics\n",
      "spring\n",
      "semester\n",
      "I501\n",
      "2018\n",
      "63\n",
      "students\n"
     ]
    }
   ],
   "source": [
    "#question2-using for loop for printing values from tuple\n",
    "tuple_q2 = ('informatics','spring','semester','I501',2018,63,'students')\n",
    "for value in tuple_q2:\n",
    "    print(value)"
   ]
  },
  {
   "cell_type": "code",
   "execution_count": 3,
   "id": "c08fe588",
   "metadata": {},
   "outputs": [
    {
     "name": "stdout",
     "output_type": "stream",
     "text": [
      "student\n",
      "False\n",
      "l1 ID: 140549993504960\n",
      "l2 ID: 140549993500800\n"
     ]
    }
   ],
   "source": [
    "#question3-value equality, object equality and print id\n",
    "l1 = ['student','math','skills']\n",
    "l2 = ['student','python','script']\n",
    "for i in l1:\n",
    "    if i in l2:\n",
    "        print(i)\n",
    "print(l1 == l2)    \n",
    "print('l1 ID:',id(l1))\n",
    "print('l2 ID:',id(l2))"
   ]
  },
  {
   "cell_type": "code",
   "execution_count": 9,
   "id": "b73a897e",
   "metadata": {},
   "outputs": [
    {
     "name": "stdout",
     "output_type": "stream",
     "text": [
      "4a: ['smith', 'john', 'andy', 'kim', 'mary', 'paul']\n",
      "4b: ['smith', 'john', 'andy', 'kim', 'paul']\n",
      "4c: ['smith', 'john', 'andy', 'kim', 'paul', 'sam']\n",
      "4d: ['andy', 'john', 'kim', 'paul', 'sam', 'smith']\n"
     ]
    }
   ],
   "source": [
    "#question4-write python program for adding, removing, inserting and sorting elements in a list\n",
    "list1 = ['smith','john','andy']\n",
    "list2 = ['kim','mary','paul']\n",
    "list1.extend(list2)\n",
    "print('4a:',list1)\n",
    "list1.remove('mary')\n",
    "print('4b:',list1)\n",
    "list1.insert(5,'sam')\n",
    "print('4c:',list1)\n",
    "list1.sort()\n",
    "print('4d:',list1)"
   ]
  },
  {
   "cell_type": "code",
   "execution_count": 5,
   "id": "bfdbd5db",
   "metadata": {},
   "outputs": [
    {
     "name": "stdout",
     "output_type": "stream",
     "text": [
      "Enter the sentence: My name is Venkata Mani Babu\n",
      "List of words: ['My', 'name', 'is', 'Venkata', 'Mani', 'Babu']\n"
     ]
    }
   ],
   "source": [
    "#question5-list of words from the given sentence\n",
    "sentence = input('Enter the sentence: ')\n",
    "words_list = sentence.split()\n",
    "print('List of words:',words_list)"
   ]
  },
  {
   "cell_type": "code",
   "execution_count": 6,
   "id": "2f39a72f",
   "metadata": {},
   "outputs": [
    {
     "name": "stdout",
     "output_type": "stream",
     "text": [
      "6a: 3\n",
      "6b: Tuples are Immutable\n",
      "6c: 4\n"
     ]
    }
   ],
   "source": [
    "#question6-friends named tuple operations\n",
    "friends = ('sam','andy','mary','andy','john','andy','mary')\n",
    "print('6a:',friends.count('andy'))\n",
    "print('6b:','Tuples are Immutable')\n",
    "print('6c:',friends.index('john'))"
   ]
  },
  {
   "cell_type": "code",
   "execution_count": 7,
   "id": "8e0a12e6",
   "metadata": {},
   "outputs": [
    {
     "name": "stdout",
     "output_type": "stream",
     "text": [
      "dict_keys(['data1', 'data2', 'data3', 'data4', 'data5', 'data6'])\n",
      "dict_values([100, 54, 247, 100, 54, 247])\n",
      "Len of dict: 6\n"
     ]
    }
   ],
   "source": [
    "#question7-dict named dictionary operations\n",
    "dict = {'data1':100,'data2':54,'data3':247, 'data4':100,'data5':54,'data6':247} \n",
    "print(dict.keys())\n",
    "print(dict.values())\n",
    "print('Len of dict:',len(dict))"
   ]
  },
  {
   "cell_type": "code",
   "execution_count": 8,
   "id": "bb193f73",
   "metadata": {},
   "outputs": [
    {
     "name": "stdout",
     "output_type": "stream",
     "text": [
      "original string: 22*13*33*137*59*11*23*11*1*57*6*13*1*2*6*57*2*6*1*22*13*33*137*59*11*23*11*1*57*6*173*7*11 \n",
      "\n",
      "encrypted string: b'gAAAAABh91u9F5x7cQlcG78P73sfPSAtQSE8d29TmED0uYvI3xsFOQcqVK8vIr2XPjuqvovcdiN5h2No_3DkL6Ew5kMg0EazniqjTJbheilGzFmpLtkwSDNrtyW-jnHYrnAoePy_n8qv5wsPgG79bk8Q1WQXC9TpChg5byg2E2QNjBhBSkoRpxk3nynQn5OXOn_ElFzAKmzw' \n",
      "\n",
      "decrypted string: 22*13*33*137*59*11*23*11*1*57*6*13*1*2*6*57*2*6*1*22*13*33*137*59*11*23*11*1*57*6*173*7*11\n"
     ]
    }
   ],
   "source": [
    "#question8-decrypt the given string\n",
    "from cryptography.fernet import Fernet\n",
    "\n",
    "string_given = '22*13*33*137*59*11*23*11*1*57*6*13*1*2*6*57*2*6*1*22*13*33*137*59*11*23*11*1*57*6*173*7*11'\n",
    "\n",
    "key = Fernet.generate_key()\n",
    "\n",
    "fernet = Fernet(key)\n",
    "\n",
    "string_encryp = fernet.encrypt(string_given.encode())\n",
    "\n",
    "print(\"original string:\", string_given, '\\n')\n",
    "print(\"encrypted string:\", string_encryp,'\\n')\n",
    "\n",
    "\n",
    "decryp_string = fernet.decrypt(string_encryp).decode()\n",
    "\n",
    "print(\"decrypted string:\",decryp_string )"
   ]
  }
 ],
 "metadata": {
  "kernelspec": {
   "display_name": "Python 3 (ipykernel)",
   "language": "python",
   "name": "python3"
  },
  "language_info": {
   "codemirror_mode": {
    "name": "ipython",
    "version": 3
   },
   "file_extension": ".py",
   "mimetype": "text/x-python",
   "name": "python",
   "nbconvert_exporter": "python",
   "pygments_lexer": "ipython3",
   "version": "3.9.7"
  }
 },
 "nbformat": 4,
 "nbformat_minor": 5
}
